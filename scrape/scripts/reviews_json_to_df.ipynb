{
 "cells": [
  {
   "cell_type": "code",
   "execution_count": 3,
   "metadata": {},
   "outputs": [],
   "source": [
    "import pandas as pd\n",
    "import numpy as np\n",
    "import tqdm\n",
    "import json\n",
    "import sys\n",
    "wd = \"/Netflix-Movies-Recommender/scrape/\""
   ]
  },
  {
   "cell_type": "code",
   "execution_count": 4,
   "metadata": {},
   "outputs": [],
   "source": [
    "with open(wd+\"letterboxd_movie_reviews.json\", encoding='utf8') as f:\n",
    "    all_lines = f.read().splitlines()"
   ]
  },
  {
   "cell_type": "code",
   "execution_count": 5,
   "metadata": {},
   "outputs": [
    {
     "data": {
      "text/plain": [
       "33920"
      ]
     },
     "execution_count": 5,
     "metadata": {},
     "output_type": "execute_result"
    }
   ],
   "source": [
    "sys.getsizeof(all_lines)"
   ]
  },
  {
   "cell_type": "markdown",
   "metadata": {},
   "source": [
    "# Get recurrent user list"
   ]
  },
  {
   "cell_type": "code",
   "execution_count": 6,
   "metadata": {},
   "outputs": [],
   "source": [
    "users = []\n",
    "for i in range(len(all_lines)):\n",
    "    users.extend(list(json.loads(all_lines[i]).keys())[1:-1])"
   ]
  },
  {
   "cell_type": "code",
   "execution_count": 7,
   "metadata": {},
   "outputs": [],
   "source": [
    "from collections import Counter\n",
    "count_users = Counter(users)"
   ]
  },
  {
   "cell_type": "code",
   "execution_count": 29,
   "metadata": {},
   "outputs": [
    {
     "data": {
      "text/plain": [
       "21013"
      ]
     },
     "execution_count": 29,
     "metadata": {},
     "output_type": "execute_result"
    }
   ],
   "source": [
    "recurrent_users = {key:val for key, val in count_users.items() if val > 49}\n",
    "recurrent_users = list(recurrent_users.keys())\n",
    "len(recurrent_users)"
   ]
  },
  {
   "cell_type": "markdown",
   "metadata": {},
   "source": [
    "# Save in tabular format, only users with 50+ reviews"
   ]
  },
  {
   "cell_type": "code",
   "execution_count": 30,
   "metadata": {},
   "outputs": [
    {
     "name": "stderr",
     "output_type": "stream",
     "text": [
      "100%|██████████████████████████████████████████████████████████████████████████████████| 20/20 [05:11<00:00, 15.57s/it]\n"
     ]
    }
   ],
   "source": [
    "chunks = np.array_split(list(range(len(all_lines))), 20)\n",
    "df_list = []\n",
    "for chunk in tqdm.tqdm(chunks):\n",
    "    df_inter = pd.DataFrame(all_lines[chunk[0]:chunk[-1]])\n",
    "    df_inter.columns = ['json_element']\n",
    "    df = pd.json_normalize(df_inter['json_element'].apply(json.loads))\n",
    "    del(df_inter)\n",
    "    cols_to_keep = list(set(users).difference(set(recurrent_users)).intersection(set(df.columns)))\n",
    "    df_list.append(df.drop(columns=cols_to_keep).astype(pd.SparseDtype(\"int\", np.nan)))\n"
   ]
  },
  {
   "cell_type": "code",
   "execution_count": 31,
   "metadata": {},
   "outputs": [],
   "source": [
    "df_final = pd.concat(df_list, axis=0)"
   ]
  },
  {
   "cell_type": "code",
   "execution_count": 32,
   "metadata": {},
   "outputs": [
    {
     "data": {
      "text/plain": [
       "(4030, 21096)"
      ]
     },
     "execution_count": 32,
     "metadata": {},
     "output_type": "execute_result"
    }
   ],
   "source": [
    "df_final.shape"
   ]
  },
  {
   "cell_type": "code",
   "execution_count": 33,
   "metadata": {},
   "outputs": [],
   "source": [
    "df_final = df_final.astype(pd.SparseDtype(\"int\", np.nan))"
   ]
  },
  {
   "cell_type": "code",
   "execution_count": 34,
   "metadata": {},
   "outputs": [
    {
     "data": {
      "text/plain": [
       "14121376"
      ]
     },
     "execution_count": 34,
     "metadata": {},
     "output_type": "execute_result"
    }
   ],
   "source": [
    "sys.getsizeof(df_final)"
   ]
  },
  {
   "cell_type": "code",
   "execution_count": 36,
   "metadata": {
    "scrolled": true
   },
   "outputs": [
    {
     "data": {
      "text/plain": [
       "show_id             Sparse[int32, nan]\n",
       "/cainamoura/        Sparse[int32, nan]\n",
       "/mattmicucci/       Sparse[int32, nan]\n",
       "/1001films/         Sparse[int32, nan]\n",
       "/jgarcia2473/       Sparse[int32, nan]\n",
       "                           ...        \n",
       "/mujahidmansor/     Sparse[int32, nan]\n",
       "/notrhea/           Sparse[int32, nan]\n",
       "/sarahl945/         Sparse[int32, nan]\n",
       "/thegoofygoober/    Sparse[int32, nan]\n",
       "/sbmilagros/        Sparse[int32, nan]\n",
       "Length: 21096, dtype: object"
      ]
     },
     "execution_count": 36,
     "metadata": {},
     "output_type": "execute_result"
    }
   ],
   "source": [
    "df_final.dtypes"
   ]
  },
  {
   "cell_type": "code",
   "execution_count": 37,
   "metadata": {},
   "outputs": [
    {
     "data": {
      "text/html": [
       "<div>\n",
       "<style scoped>\n",
       "    .dataframe tbody tr th:only-of-type {\n",
       "        vertical-align: middle;\n",
       "    }\n",
       "\n",
       "    .dataframe tbody tr th {\n",
       "        vertical-align: top;\n",
       "    }\n",
       "\n",
       "    .dataframe thead th {\n",
       "        text-align: right;\n",
       "    }\n",
       "</style>\n",
       "<table border=\"1\" class=\"dataframe\">\n",
       "  <thead>\n",
       "    <tr style=\"text-align: right;\">\n",
       "      <th></th>\n",
       "      <th>show_id</th>\n",
       "      <th>/cainamoura/</th>\n",
       "      <th>/mattmicucci/</th>\n",
       "      <th>/1001films/</th>\n",
       "      <th>/jgarcia2473/</th>\n",
       "      <th>/lostgoonie1980/</th>\n",
       "      <th>/catpanther/</th>\n",
       "      <th>/ingmarbergmanz/</th>\n",
       "      <th>/j1l2e/</th>\n",
       "      <th>/_alison_/</th>\n",
       "      <th>...</th>\n",
       "      <th>/madytastic/</th>\n",
       "      <th>/serhiitrykoza/</th>\n",
       "      <th>/raechella/</th>\n",
       "      <th>/jeppelademand/</th>\n",
       "      <th>/crystalbird/</th>\n",
       "      <th>/mujahidmansor/</th>\n",
       "      <th>/notrhea/</th>\n",
       "      <th>/sarahl945/</th>\n",
       "      <th>/thegoofygoober/</th>\n",
       "      <th>/sbmilagros/</th>\n",
       "    </tr>\n",
       "  </thead>\n",
       "  <tbody>\n",
       "    <tr>\n",
       "      <th>0</th>\n",
       "      <td>1005494</td>\n",
       "      <td>9.0</td>\n",
       "      <td>9.0</td>\n",
       "      <td>9.0</td>\n",
       "      <td>9.0</td>\n",
       "      <td>9.0</td>\n",
       "      <td>9.0</td>\n",
       "      <td>9.0</td>\n",
       "      <td>9.0</td>\n",
       "      <td>9.0</td>\n",
       "      <td>...</td>\n",
       "      <td>NaN</td>\n",
       "      <td>NaN</td>\n",
       "      <td>NaN</td>\n",
       "      <td>NaN</td>\n",
       "      <td>NaN</td>\n",
       "      <td>NaN</td>\n",
       "      <td>NaN</td>\n",
       "      <td>NaN</td>\n",
       "      <td>NaN</td>\n",
       "      <td>NaN</td>\n",
       "    </tr>\n",
       "    <tr>\n",
       "      <th>1</th>\n",
       "      <td>1008581</td>\n",
       "      <td>NaN</td>\n",
       "      <td>7.0</td>\n",
       "      <td>NaN</td>\n",
       "      <td>NaN</td>\n",
       "      <td>NaN</td>\n",
       "      <td>7.0</td>\n",
       "      <td>NaN</td>\n",
       "      <td>NaN</td>\n",
       "      <td>NaN</td>\n",
       "      <td>...</td>\n",
       "      <td>NaN</td>\n",
       "      <td>NaN</td>\n",
       "      <td>NaN</td>\n",
       "      <td>NaN</td>\n",
       "      <td>NaN</td>\n",
       "      <td>NaN</td>\n",
       "      <td>NaN</td>\n",
       "      <td>NaN</td>\n",
       "      <td>NaN</td>\n",
       "      <td>NaN</td>\n",
       "    </tr>\n",
       "    <tr>\n",
       "      <th>2</th>\n",
       "      <td>1029730</td>\n",
       "      <td>NaN</td>\n",
       "      <td>NaN</td>\n",
       "      <td>NaN</td>\n",
       "      <td>NaN</td>\n",
       "      <td>NaN</td>\n",
       "      <td>NaN</td>\n",
       "      <td>NaN</td>\n",
       "      <td>NaN</td>\n",
       "      <td>NaN</td>\n",
       "      <td>...</td>\n",
       "      <td>NaN</td>\n",
       "      <td>NaN</td>\n",
       "      <td>NaN</td>\n",
       "      <td>NaN</td>\n",
       "      <td>NaN</td>\n",
       "      <td>NaN</td>\n",
       "      <td>NaN</td>\n",
       "      <td>NaN</td>\n",
       "      <td>NaN</td>\n",
       "      <td>NaN</td>\n",
       "    </tr>\n",
       "    <tr>\n",
       "      <th>3</th>\n",
       "      <td>1064058</td>\n",
       "      <td>NaN</td>\n",
       "      <td>NaN</td>\n",
       "      <td>NaN</td>\n",
       "      <td>NaN</td>\n",
       "      <td>NaN</td>\n",
       "      <td>NaN</td>\n",
       "      <td>NaN</td>\n",
       "      <td>NaN</td>\n",
       "      <td>NaN</td>\n",
       "      <td>...</td>\n",
       "      <td>NaN</td>\n",
       "      <td>NaN</td>\n",
       "      <td>NaN</td>\n",
       "      <td>NaN</td>\n",
       "      <td>NaN</td>\n",
       "      <td>NaN</td>\n",
       "      <td>NaN</td>\n",
       "      <td>NaN</td>\n",
       "      <td>NaN</td>\n",
       "      <td>NaN</td>\n",
       "    </tr>\n",
       "    <tr>\n",
       "      <th>4</th>\n",
       "      <td>1065372</td>\n",
       "      <td>NaN</td>\n",
       "      <td>NaN</td>\n",
       "      <td>4.0</td>\n",
       "      <td>NaN</td>\n",
       "      <td>NaN</td>\n",
       "      <td>NaN</td>\n",
       "      <td>NaN</td>\n",
       "      <td>NaN</td>\n",
       "      <td>NaN</td>\n",
       "      <td>...</td>\n",
       "      <td>NaN</td>\n",
       "      <td>NaN</td>\n",
       "      <td>NaN</td>\n",
       "      <td>NaN</td>\n",
       "      <td>NaN</td>\n",
       "      <td>NaN</td>\n",
       "      <td>NaN</td>\n",
       "      <td>NaN</td>\n",
       "      <td>NaN</td>\n",
       "      <td>NaN</td>\n",
       "    </tr>\n",
       "  </tbody>\n",
       "</table>\n",
       "<p>5 rows × 21096 columns</p>\n",
       "</div>"
      ],
      "text/plain": [
       "   show_id  /cainamoura/  /mattmicucci/  /1001films/  /jgarcia2473/  \\\n",
       "0  1005494           9.0            9.0          9.0            9.0   \n",
       "1  1008581           NaN            7.0          NaN            NaN   \n",
       "2  1029730           NaN            NaN          NaN            NaN   \n",
       "3  1064058           NaN            NaN          NaN            NaN   \n",
       "4  1065372           NaN            NaN          4.0            NaN   \n",
       "\n",
       "   /lostgoonie1980/  /catpanther/  /ingmarbergmanz/  /j1l2e/  /_alison_/  ...  \\\n",
       "0               9.0           9.0               9.0      9.0         9.0  ...   \n",
       "1               NaN           7.0               NaN      NaN         NaN  ...   \n",
       "2               NaN           NaN               NaN      NaN         NaN  ...   \n",
       "3               NaN           NaN               NaN      NaN         NaN  ...   \n",
       "4               NaN           NaN               NaN      NaN         NaN  ...   \n",
       "\n",
       "   /madytastic/  /serhiitrykoza/  /raechella/  /jeppelademand/  /crystalbird/  \\\n",
       "0           NaN              NaN          NaN              NaN            NaN   \n",
       "1           NaN              NaN          NaN              NaN            NaN   \n",
       "2           NaN              NaN          NaN              NaN            NaN   \n",
       "3           NaN              NaN          NaN              NaN            NaN   \n",
       "4           NaN              NaN          NaN              NaN            NaN   \n",
       "\n",
       "   /mujahidmansor/  /notrhea/  /sarahl945/  /thegoofygoober/  /sbmilagros/  \n",
       "0              NaN        NaN          NaN               NaN           NaN  \n",
       "1              NaN        NaN          NaN               NaN           NaN  \n",
       "2              NaN        NaN          NaN               NaN           NaN  \n",
       "3              NaN        NaN          NaN               NaN           NaN  \n",
       "4              NaN        NaN          NaN               NaN           NaN  \n",
       "\n",
       "[5 rows x 21096 columns]"
      ]
     },
     "execution_count": 37,
     "metadata": {},
     "output_type": "execute_result"
    }
   ],
   "source": [
    "df_final.head()"
   ]
  },
  {
   "cell_type": "code",
   "execution_count": 113,
   "metadata": {
    "scrolled": true
   },
   "outputs": [
    {
     "data": {
      "image/png": "[encoded data removed]",
      "text/plain": [
       "<Figure size 1152x576 with 1 Axes>"
      ]
     },
     "metadata": {
      "needs_background": "light"
     },
     "output_type": "display_data"
    }
   ],
   "source": [
    "import matplotlib.pylab as plt\n",
    "\n",
    "fig = plt.figure(figsize=(16,8))\n",
    "fig.subplots_adjust(top=0.8)\n",
    "ax1 = plt.axes()\n",
    "ax1 = plt.spy(df_final)\n",
    "plt.xlabel(\"movies\")\n",
    "plt.ylabel(\"users\")\n",
    "plt.show()"
   ]
  },
  {
   "cell_type": "markdown",
   "metadata": {},
   "source": [
    "approach: \n",
    "\n",
    "* have a list of recurrent users\n",
    "* for each movie, map user rating to recurrent user list (create NA's for recurrent users that did not rated that movie)\n",
    "* append these ratings to a scipy sparse matrix, so that col orders are recurrent users, and row order are movies\n",
    "* save the final sparse scipy matrix"
   ]
  },
  {
   "cell_type": "code",
   "execution_count": 105,
   "metadata": {
    "scrolled": false
   },
   "outputs": [
    {
     "name": "stdout",
     "output_type": "stream",
     "text": [
      "Variable   Type         Data/Info\n",
      "---------------------------------\n",
      "df_final   DataFrame         show_id  /cainamoura<...>030 rows x 21096 columns]\n",
      "gc         module       <module 'gc' (built-in)>\n",
      "json       module       <module 'json' from 'c:\\\\<...>\\lib\\\\json\\\\__init__.py'>\n",
      "np         module       <module 'numpy' from 'c:\\<...>ges\\\\numpy\\\\__init__.py'>\n",
      "pd         module       <module 'pandas' from 'c:<...>es\\\\pandas\\\\__init__.py'>\n",
      "plt        module       <module 'matplotlib.pylab<...>s\\\\matplotlib\\\\pylab.py'>\n",
      "sns        module       <module 'seaborn' from 'c<...>s\\\\seaborn\\\\__init__.py'>\n",
      "sys        module       <module 'sys' (built-in)>\n",
      "tqdm       module       <module 'tqdm' from 'c:\\\\<...>ages\\\\tqdm\\\\__init__.py'>\n",
      "wd         str          D:/Mestrado/2020-2/Curso <...>r System - Movies/scrape/\n"
     ]
    }
   ],
   "source": [
    "%whos"
   ]
  }
 ],
 "metadata": {
  "kernelspec": {
   "display_name": "Python 3",
   "language": "python",
   "name": "python3"
  },
  "language_info": {
   "codemirror_mode": {
    "name": "ipython",
    "version": 3
   },
   "file_extension": ".py",
   "mimetype": "text/x-python",
   "name": "python",
   "nbconvert_exporter": "python",
   "pygments_lexer": "ipython3",
   "version": "3.8.5"
  }
 },
 "nbformat": 4,
 "nbformat_minor": 4
}
