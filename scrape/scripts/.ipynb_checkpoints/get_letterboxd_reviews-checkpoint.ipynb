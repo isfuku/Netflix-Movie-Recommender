{
 "cells": [
  {
   "cell_type": "code",
   "execution_count": 1,
   "metadata": {},
   "outputs": [],
   "source": [
    "import os\n",
    "import sys\n",
    "import pandas as pd\n",
    "import numpy as np\n",
    "import json\n",
    "import time\n",
    "from bs4 import BeautifulSoup as bs \n",
    "import requests as req\n",
    "import tqdm\n",
    "\n",
    "wd = \"/Netflix-Movies-Recommender/scrape/\"\n",
    "raw_data_dir = wd+\"raw_data/\"\n",
    "url = \"https://letterboxd.com{href}ratings/by/ratings/page/{page}/\"\n",
    "movies = pd.read_json(wd+\"letterboxd_movies_page_wimg.json\", lines=True)\n",
    "num_pages = 50"
   ]
  },
  {
   "cell_type": "code",
   "execution_count": 2,
   "metadata": {},
   "outputs": [
    {
     "data": {
      "text/html": [
       "<div>\n",
       "<style scoped>\n",
       "    .dataframe tbody tr th:only-of-type {\n",
       "        vertical-align: middle;\n",
       "    }\n",
       "\n",
       "    .dataframe tbody tr th {\n",
       "        vertical-align: top;\n",
       "    }\n",
       "\n",
       "    .dataframe thead th {\n",
       "        text-align: right;\n",
       "    }\n",
       "</style>\n",
       "<table border=\"1\" class=\"dataframe\">\n",
       "  <thead>\n",
       "    <tr style=\"text-align: right;\">\n",
       "      <th></th>\n",
       "      <th>show_id</th>\n",
       "      <th>title</th>\n",
       "      <th>href</th>\n",
       "      <th>year</th>\n",
       "      <th>director</th>\n",
       "      <th>similarity</th>\n",
       "      <th>img</th>\n",
       "    </tr>\n",
       "  </thead>\n",
       "  <tbody>\n",
       "    <tr>\n",
       "      <th>0</th>\n",
       "      <td>1005494</td>\n",
       "      <td>The Stranger 1946</td>\n",
       "      <td>/film/the-stranger/</td>\n",
       "      <td>1946.0</td>\n",
       "      <td>Orson Welles</td>\n",
       "      <td>1.000000</td>\n",
       "      <td>https://a.ltrbxd.com/resized/film-poster/3/9/1...</td>\n",
       "    </tr>\n",
       "    <tr>\n",
       "      <th>1</th>\n",
       "      <td>1008581</td>\n",
       "      <td>Stripes 1981</td>\n",
       "      <td>/film/stripes/</td>\n",
       "      <td>1981.0</td>\n",
       "      <td>Ivan Reitman</td>\n",
       "      <td>1.000000</td>\n",
       "      <td>https://a.ltrbxd.com/resized/sm/upload/34/li/e...</td>\n",
       "    </tr>\n",
       "    <tr>\n",
       "      <th>2</th>\n",
       "      <td>1029730</td>\n",
       "      <td>Teenage Mutant Ninja Turtles 1990</td>\n",
       "      <td>/film/teenage-mutant-ninja-turtles/</td>\n",
       "      <td>1990.0</td>\n",
       "      <td>Steve Barron</td>\n",
       "      <td>0.835821</td>\n",
       "      <td>https://a.ltrbxd.com/resized/film-poster/5/1/0...</td>\n",
       "    </tr>\n",
       "    <tr>\n",
       "      <th>3</th>\n",
       "      <td>1064058</td>\n",
       "      <td>Tremors 2: Aftershocks 1996</td>\n",
       "      <td>/film/tremors-2-aftershocks/</td>\n",
       "      <td>1996.0</td>\n",
       "      <td>S. S. Wilson</td>\n",
       "      <td>1.000000</td>\n",
       "      <td>https://a.ltrbxd.com/resized/film-poster/4/5/6...</td>\n",
       "    </tr>\n",
       "    <tr>\n",
       "      <th>4</th>\n",
       "      <td>1065372</td>\n",
       "      <td>The Trigger Effect 1996</td>\n",
       "      <td>/film/the-trigger-effect/</td>\n",
       "      <td>1996.0</td>\n",
       "      <td>David Koepp</td>\n",
       "      <td>1.000000</td>\n",
       "      <td>https://a.ltrbxd.com/resized/film-poster/7/5/4...</td>\n",
       "    </tr>\n",
       "  </tbody>\n",
       "</table>\n",
       "</div>"
      ],
      "text/plain": [
       "   show_id                              title  \\\n",
       "0  1005494                  The Stranger 1946   \n",
       "1  1008581                       Stripes 1981   \n",
       "2  1029730  Teenage Mutant Ninja Turtles 1990   \n",
       "3  1064058        Tremors 2: Aftershocks 1996   \n",
       "4  1065372            The Trigger Effect 1996   \n",
       "\n",
       "                                  href    year      director  similarity  \\\n",
       "0                  /film/the-stranger/  1946.0  Orson Welles    1.000000   \n",
       "1                       /film/stripes/  1981.0  Ivan Reitman    1.000000   \n",
       "2  /film/teenage-mutant-ninja-turtles/  1990.0  Steve Barron    0.835821   \n",
       "3         /film/tremors-2-aftershocks/  1996.0  S. S. Wilson    1.000000   \n",
       "4            /film/the-trigger-effect/  1996.0   David Koepp    1.000000   \n",
       "\n",
       "                                                 img  \n",
       "0  https://a.ltrbxd.com/resized/film-poster/3/9/1...  \n",
       "1  https://a.ltrbxd.com/resized/sm/upload/34/li/e...  \n",
       "2  https://a.ltrbxd.com/resized/film-poster/5/1/0...  \n",
       "3  https://a.ltrbxd.com/resized/film-poster/4/5/6...  \n",
       "4  https://a.ltrbxd.com/resized/film-poster/7/5/4...  "
      ]
     },
     "execution_count": 2,
     "metadata": {},
     "output_type": "execute_result"
    }
   ],
   "source": [
    "movies.head()"
   ]
  },
  {
   "cell_type": "code",
   "execution_count": 3,
   "metadata": {
    "scrolled": false
   },
   "outputs": [
    {
     "data": {
      "text/plain": [
       "4086"
      ]
     },
     "execution_count": 3,
     "metadata": {},
     "output_type": "execute_result"
    }
   ],
   "source": [
    "movies.shape[0]"
   ]
  },
  {
   "cell_type": "markdown",
   "metadata": {},
   "source": [
    "# Save raw HTML data from review pages"
   ]
  },
  {
   "cell_type": "code",
   "execution_count": null,
   "metadata": {},
   "outputs": [],
   "source": [
    "for i in tqdm.tqdm(range(movies.shape[0]), \"searching letterboxd review for movie\"):\n",
    "    href, show_id = movies.href[i], movies.show_id[i]\n",
    "    for page in tqdm.tqdm(range(1, num_pages+1), \"searching pages\"):\n",
    "        \n",
    "        if not os.path.exists(raw_data_dir+\"review_{show_id}_{page}.html\".format(show_id=show_id,page=page)):\n",
    "            response = req.get(url.format(href=href, page=page))\n",
    "            # saving\n",
    "            parsed = bs(response.text, 'html.parser')\n",
    "            ratings = parsed.find_all(\"section\", attrs={\"class\":\"film-rating-group\"})\n",
    "            if len(ratings) > 0:\n",
    "                with open(raw_data_dir+\"review_{show_id}_{page}.html\".format(show_id=show_id,page=page), \n",
    "                          'w+', encoding='utf8') as output:\n",
    "                    output.write(response.text)\n",
    "                time.sleep(2)\n",
    "            else:\n",
    "                break"
   ]
  },
  {
   "cell_type": "markdown",
   "metadata": {},
   "source": [
    "# Get movie ratings data from HTML files"
   ]
  },
  {
   "cell_type": "code",
   "execution_count": 6,
   "metadata": {},
   "outputs": [],
   "source": [
    "import glob\n",
    "import re"
   ]
  },
  {
   "cell_type": "code",
   "execution_count": 7,
   "metadata": {},
   "outputs": [],
   "source": [
    "map_stars = {' ★★★★★ ':9,\n",
    "             ' ★★★★½ ':8,\n",
    "             ' ★★★★ ':7,\n",
    "             ' ★★★½ ':6,\n",
    "             ' ★★★ ':5,\n",
    "             ' ★★½ ':4,\n",
    "             ' ★★ ':3,\n",
    "             ' ★½ ':2,\n",
    "             ' ★ ':1,\n",
    "             ' ½ ':0}"
   ]
  },
  {
   "cell_type": "code",
   "execution_count": 8,
   "metadata": {},
   "outputs": [
    {
     "name": "stderr",
     "output_type": "stream",
     "text": [
      "working on review pages: 100%|███████████████████████████████████████████████████| 16213/16213 [28:29<00:00,  9.48it/s]\n"
     ]
    }
   ],
   "source": [
    "show_id = \"\"\n",
    "with open(wd+\"letterboxd_movie_reviews.json\", 'a+') as output:\n",
    "    for review_page in tqdm.tqdm(sorted(glob.glob(raw_data_dir+\"/review_*\")), desc=\"working on review pages\"):\n",
    "        with open(review_page, 'r+', encoding='utf8') as apage:\n",
    "            # movie info\n",
    "            new_id = int(review_page.split('review_', 1)[1].split('_',1)[0])\n",
    "            if new_id != show_id:\n",
    "                if show_id != \"\":\n",
    "                    output.write(\"{}\\n\".format(json.dumps(result)))\n",
    "                show_id = new_id\n",
    "                result = {'show_id': show_id}\n",
    "\n",
    "            # getting all ratings for the given movie\n",
    "            parsed = bs(apage, 'html.parser')\n",
    "            sections = parsed.find_all(\"section\", attrs={\"class\":\"film-rating-group\"})\n",
    "\n",
    "\n",
    "            for section in sections:\n",
    "                stars_text = section.find_all(\"span\", attrs={\"class\": re.compile(\"^rating rating\")})[0].text\n",
    "                stars = map_stars[stars_text]\n",
    "                users = section.find_all(\"a\", attrs={\"class\": \"avatar -a40\"})\n",
    "                result = dict(result, **{user['href']: stars for user in users})\n"
   ]
  }
 ],
 "metadata": {
  "kernelspec": {
   "display_name": "Python 3",
   "language": "python",
   "name": "python3"
  },
  "language_info": {
   "codemirror_mode": {
    "name": "ipython",
    "version": 3
   },
   "file_extension": ".py",
   "mimetype": "text/x-python",
   "name": "python",
   "nbconvert_exporter": "python",
   "pygments_lexer": "ipython3",
   "version": "3.8.5"
  }
 },
 "nbformat": 4,
 "nbformat_minor": 4
}
