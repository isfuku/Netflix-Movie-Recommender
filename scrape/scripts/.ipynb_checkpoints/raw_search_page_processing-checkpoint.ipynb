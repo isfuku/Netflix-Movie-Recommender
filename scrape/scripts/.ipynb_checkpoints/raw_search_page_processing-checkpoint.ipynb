{
 "cells": [
  {
   "cell_type": "code",
   "execution_count": 63,
   "metadata": {},
   "outputs": [],
   "source": [
    "import os\n",
    "import pandas as pd\n",
    "import json\n",
    "import time\n",
    "from bs4 import BeautifulSoup as bs \n",
    "import requests as req\n",
    "import tqdm\n",
    "\n",
    "wd = \"D:/Mestrado/2020-2/Curso DS/Recommender System - Movies/scrape/\"\n",
    "raw_data_dir = wd+\"raw_data/\"\n",
    "num_pages = 8\n",
    "url = \"https://www.metacritic.com/browse/movies/score/metascore/all/filtered/netflix?page={page}\""
   ]
  },
  {
   "cell_type": "code",
   "execution_count": 65,
   "metadata": {},
   "outputs": [
    {
     "name": "stderr",
     "output_type": "stream",
     "text": [
      "searching YouTube pages: 100%|███████████████████████████████████████████████████████████| 9/9 [00:26<00:00,  2.94s/it]\n"
     ]
    }
   ],
   "source": [
    "headers={'user-agent': 'Mozilla/5.0 (Windows NT 10.0; Win64; x64) AppleWebKit/537.36 (KHTML, like Gecko)'+\n",
    "         ' Chrome/86.0.4240.75 Safari/537.36'}\n",
    "for page in tqdm.tqdm(range(num_pages+1), \"searching YouTube pages\"):\n",
    "\n",
    "        response = req.get(url.format(page=page), headers=headers)\n",
    "        # saving\n",
    "        with open(raw_data_dir+\"metacritic_search_page_{}.html\".format(page), 'w+', encoding='utf8') as output:\n",
    "            output.write(response.text)\n",
    "        time.sleep(2)"
   ]
  },
  {
   "cell_type": "markdown",
   "metadata": {},
   "source": [
    "### Processing raw HTML files to extract video title and URL"
   ]
  },
  {
   "cell_type": "code",
   "execution_count": 66,
   "metadata": {},
   "outputs": [
    {
     "name": "stderr",
     "output_type": "stream",
     "text": [
      "loop over pages: 100%|███████████████████████████████████████████████████████████████████| 9/9 [00:15<00:00,  1.67s/it]\n"
     ]
    }
   ],
   "source": [
    "# parse with bs4 and save as json\n",
    "for page in tqdm.tqdm(range(num_pages+1), desc='loop over pages'):\n",
    "    # get html files\n",
    "    with open(raw_data_dir+\"metacritic_search_page_{page}.html\".format(page=page), 'r+', encoding='utf8') as inp:\n",
    "        page_html = inp.read()\n",
    "        parsed = bs(page_html, \"html.parser\")\n",
    "        \n",
    "        # find titles and href\n",
    "        a = parsed.find_all('a', attrs={'class':'title'})\n",
    "        \n",
    "        # saving\n",
    "        for i in range(len(a)):\n",
    "            movie = {'title':a[i].text.strip(), 'href':a[i]['href']}\n",
    "            with open(wd+\"metacritic_movies.json\", \"a+\", encoding=\"utf8\") as output:\n",
    "                output.write(\"{}\\n\".format(json.dumps(movie)))"
   ]
  },
  {
   "cell_type": "code",
   "execution_count": 69,
   "metadata": {},
   "outputs": [
    {
     "name": "stdout",
     "output_type": "stream",
     "text": [
      "                title                       href\n",
      "0           Moonlight      /movie/moonlight-2016\n",
      "1     Pan's Labyrinth      /movie/pans-labyrinth\n",
      "2                Roma                /movie/roma\n",
      "3        Mean Streets        /movie/mean-streets\n",
      "4  The Social Network  /movie/the-social-network\n",
      "                                title                                    href\n",
      "1614  The Last Days of American Crime  /movie/the-last-days-of-american-crime\n",
      "1615                      Cabin Fever                 /movie/cabin-fever-2016\n",
      "1616                    Scary Movie 5                    /movie/scary-movie-5\n",
      "1617                          Whipped                          /movie/whipped\n",
      "1618                          Screwed                          /movie/screwed\n",
      "Total number of movies: 1619\n"
     ]
    }
   ],
   "source": [
    "# look at saved json\n",
    "df = pd.read_json(wd+\"metacritic_movies.json\", lines=True)\n",
    "print(df.head())\n",
    "print(df.tail())\n",
    "print('Total number of movies:', df.shape[0])"
   ]
  }
 ],
 "metadata": {
  "kernelspec": {
   "display_name": "Python 3",
   "language": "python",
   "name": "python3"
  },
  "language_info": {
   "codemirror_mode": {
    "name": "ipython",
    "version": 3
   },
   "file_extension": ".py",
   "mimetype": "text/x-python",
   "name": "python",
   "nbconvert_exporter": "python",
   "pygments_lexer": "ipython3",
   "version": "3.8.5"
  }
 },
 "nbformat": 4,
 "nbformat_minor": 4
}
