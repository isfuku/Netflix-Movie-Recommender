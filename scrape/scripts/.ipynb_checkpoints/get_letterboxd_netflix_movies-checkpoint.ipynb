{
 "cells": [
  {
   "cell_type": "code",
   "execution_count": 1,
   "metadata": {},
   "outputs": [],
   "source": [
    "import os\n",
    "import pandas as pd\n",
    "import json\n",
    "import time\n",
    "from bs4 import BeautifulSoup as bs \n",
    "import requests as req\n",
    "import tqdm\n",
    "\n",
    "wd = \"D:/Mestrado/2020-2/Curso DS/Recommender System - Movies/scrape/\"\n",
    "raw_data_dir = wd+\"raw_data/\"\n",
    "url = \"https://letterboxd.com/search/films/{title}/\"\n",
    "netflix_titles = pd.read_csv(wd+\"netflix_titles.csv\")\n",
    "netflix_titles = netflix_titles[netflix_titles.type == \"Movie\"]\n",
    "netflix_titles = netflix_titles.reset_index()"
   ]
  },
  {
   "cell_type": "code",
   "execution_count": 4,
   "metadata": {
    "scrolled": true
   },
   "outputs": [
    {
     "data": {
      "text/html": [
       "<div>\n",
       "<style scoped>\n",
       "    .dataframe tbody tr th:only-of-type {\n",
       "        vertical-align: middle;\n",
       "    }\n",
       "\n",
       "    .dataframe tbody tr th {\n",
       "        vertical-align: top;\n",
       "    }\n",
       "\n",
       "    .dataframe thead th {\n",
       "        text-align: right;\n",
       "    }\n",
       "</style>\n",
       "<table border=\"1\" class=\"dataframe\">\n",
       "  <thead>\n",
       "    <tr style=\"text-align: right;\">\n",
       "      <th></th>\n",
       "      <th>index</th>\n",
       "      <th>show_id</th>\n",
       "      <th>type</th>\n",
       "      <th>title</th>\n",
       "      <th>director</th>\n",
       "      <th>cast</th>\n",
       "      <th>country</th>\n",
       "      <th>date_added</th>\n",
       "      <th>release_year</th>\n",
       "      <th>rating</th>\n",
       "      <th>duration</th>\n",
       "      <th>listed_in</th>\n",
       "      <th>description</th>\n",
       "    </tr>\n",
       "  </thead>\n",
       "  <tbody>\n",
       "    <tr>\n",
       "      <th>0</th>\n",
       "      <td>0</td>\n",
       "      <td>81145628</td>\n",
       "      <td>Movie</td>\n",
       "      <td>Norm of the North: King Sized Adventure</td>\n",
       "      <td>Richard Finn, Tim Maltby</td>\n",
       "      <td>Alan Marriott, Andrew Toth, Brian Dobson, Cole...</td>\n",
       "      <td>United States, India, South Korea, China</td>\n",
       "      <td>September 9, 2019</td>\n",
       "      <td>2019</td>\n",
       "      <td>TV-PG</td>\n",
       "      <td>90 min</td>\n",
       "      <td>Children &amp; Family Movies, Comedies</td>\n",
       "      <td>Before planning an awesome wedding for his gra...</td>\n",
       "    </tr>\n",
       "    <tr>\n",
       "      <th>1</th>\n",
       "      <td>1</td>\n",
       "      <td>80117401</td>\n",
       "      <td>Movie</td>\n",
       "      <td>Jandino: Whatever it Takes</td>\n",
       "      <td>NaN</td>\n",
       "      <td>Jandino Asporaat</td>\n",
       "      <td>United Kingdom</td>\n",
       "      <td>September 9, 2016</td>\n",
       "      <td>2016</td>\n",
       "      <td>TV-MA</td>\n",
       "      <td>94 min</td>\n",
       "      <td>Stand-Up Comedy</td>\n",
       "      <td>Jandino Asporaat riffs on the challenges of ra...</td>\n",
       "    </tr>\n",
       "    <tr>\n",
       "      <th>2</th>\n",
       "      <td>4</td>\n",
       "      <td>80125979</td>\n",
       "      <td>Movie</td>\n",
       "      <td>#realityhigh</td>\n",
       "      <td>Fernando Lebrija</td>\n",
       "      <td>Nesta Cooper, Kate Walsh, John Michael Higgins...</td>\n",
       "      <td>United States</td>\n",
       "      <td>September 8, 2017</td>\n",
       "      <td>2017</td>\n",
       "      <td>TV-14</td>\n",
       "      <td>99 min</td>\n",
       "      <td>Comedies</td>\n",
       "      <td>When nerdy high schooler Dani finally attracts...</td>\n",
       "    </tr>\n",
       "    <tr>\n",
       "      <th>3</th>\n",
       "      <td>6</td>\n",
       "      <td>70304989</td>\n",
       "      <td>Movie</td>\n",
       "      <td>Automata</td>\n",
       "      <td>Gabe Ibáñez</td>\n",
       "      <td>Antonio Banderas, Dylan McDermott, Melanie Gri...</td>\n",
       "      <td>Bulgaria, United States, Spain, Canada</td>\n",
       "      <td>September 8, 2017</td>\n",
       "      <td>2014</td>\n",
       "      <td>R</td>\n",
       "      <td>110 min</td>\n",
       "      <td>International Movies, Sci-Fi &amp; Fantasy, Thrillers</td>\n",
       "      <td>In a dystopian future, an insurance adjuster f...</td>\n",
       "    </tr>\n",
       "    <tr>\n",
       "      <th>4</th>\n",
       "      <td>7</td>\n",
       "      <td>80164077</td>\n",
       "      <td>Movie</td>\n",
       "      <td>Fabrizio Copano: Solo pienso en mi</td>\n",
       "      <td>Rodrigo Toro, Francisco Schultz</td>\n",
       "      <td>Fabrizio Copano</td>\n",
       "      <td>Chile</td>\n",
       "      <td>September 8, 2017</td>\n",
       "      <td>2017</td>\n",
       "      <td>TV-MA</td>\n",
       "      <td>60 min</td>\n",
       "      <td>Stand-Up Comedy</td>\n",
       "      <td>Fabrizio Copano takes audience participation t...</td>\n",
       "    </tr>\n",
       "  </tbody>\n",
       "</table>\n",
       "</div>"
      ],
      "text/plain": [
       "   index   show_id   type                                    title  \\\n",
       "0      0  81145628  Movie  Norm of the North: King Sized Adventure   \n",
       "1      1  80117401  Movie               Jandino: Whatever it Takes   \n",
       "2      4  80125979  Movie                             #realityhigh   \n",
       "3      6  70304989  Movie                                 Automata   \n",
       "4      7  80164077  Movie       Fabrizio Copano: Solo pienso en mi   \n",
       "\n",
       "                          director  \\\n",
       "0         Richard Finn, Tim Maltby   \n",
       "1                              NaN   \n",
       "2                 Fernando Lebrija   \n",
       "3                      Gabe Ibáñez   \n",
       "4  Rodrigo Toro, Francisco Schultz   \n",
       "\n",
       "                                                cast  \\\n",
       "0  Alan Marriott, Andrew Toth, Brian Dobson, Cole...   \n",
       "1                                   Jandino Asporaat   \n",
       "2  Nesta Cooper, Kate Walsh, John Michael Higgins...   \n",
       "3  Antonio Banderas, Dylan McDermott, Melanie Gri...   \n",
       "4                                    Fabrizio Copano   \n",
       "\n",
       "                                    country         date_added  release_year  \\\n",
       "0  United States, India, South Korea, China  September 9, 2019          2019   \n",
       "1                            United Kingdom  September 9, 2016          2016   \n",
       "2                             United States  September 8, 2017          2017   \n",
       "3    Bulgaria, United States, Spain, Canada  September 8, 2017          2014   \n",
       "4                                     Chile  September 8, 2017          2017   \n",
       "\n",
       "  rating duration                                          listed_in  \\\n",
       "0  TV-PG   90 min                 Children & Family Movies, Comedies   \n",
       "1  TV-MA   94 min                                    Stand-Up Comedy   \n",
       "2  TV-14   99 min                                           Comedies   \n",
       "3      R  110 min  International Movies, Sci-Fi & Fantasy, Thrillers   \n",
       "4  TV-MA   60 min                                    Stand-Up Comedy   \n",
       "\n",
       "                                         description  \n",
       "0  Before planning an awesome wedding for his gra...  \n",
       "1  Jandino Asporaat riffs on the challenges of ra...  \n",
       "2  When nerdy high schooler Dani finally attracts...  \n",
       "3  In a dystopian future, an insurance adjuster f...  \n",
       "4  Fabrizio Copano takes audience participation t...  "
      ]
     },
     "execution_count": 4,
     "metadata": {},
     "output_type": "execute_result"
    }
   ],
   "source": [
    "netflix_titles.head()"
   ]
  },
  {
   "cell_type": "markdown",
   "metadata": {},
   "source": [
    "# Get HTML search pages source and save at local disc"
   ]
  },
  {
   "cell_type": "code",
   "execution_count": 3,
   "metadata": {},
   "outputs": [
    {
     "name": "stderr",
     "output_type": "stream",
     "text": [
      "searching letterboxd pages: 100%|████████████████████████████████████████████████| 4265/4265 [2:04:15<00:00,  1.75s/it]\n"
     ]
    }
   ],
   "source": [
    "for i in tqdm.tqdm(netflix_titles.index, \"searching letterboxd pages\"):\n",
    "    title, title_id = netflix_titles.title[i].replace(\" \", \"+\"), netflix_titles.show_id[i]\n",
    "    if not os.path.exists(raw_data_dir+\"letterboxd_search_{}.html\".format(title_id)):\n",
    "        response = req.get(url.format(title=title))\n",
    "        # saving\n",
    "        with open(raw_data_dir+\"letterboxd_search_{}.html\".format(title_id), 'w+', encoding='utf8') as output:\n",
    "            output.write(response.text)\n",
    "        time.sleep(2)"
   ]
  },
  {
   "cell_type": "markdown",
   "metadata": {},
   "source": [
    "# Processing raw HTML files to extract video title, URL and other info"
   ]
  },
  {
   "cell_type": "code",
   "execution_count": 14,
   "metadata": {},
   "outputs": [],
   "source": [
    "import glob\n",
    "from difflib import SequenceMatcher\n",
    "import re"
   ]
  },
  {
   "cell_type": "code",
   "execution_count": 41,
   "metadata": {
    "scrolled": true
   },
   "outputs": [
    {
     "name": "stderr",
     "output_type": "stream",
     "text": [
      "working on film pages: 100%|███████████████████████████████████████████████████████| 4265/4265 [03:48<00:00, 18.64it/s]\n"
     ]
    }
   ],
   "source": [
    "with open(wd+\"letterboxd_movies_page_wimg.json\", 'a+') as output:\n",
    "    for search_page in tqdm.tqdm(sorted(glob.glob(raw_data_dir+\"/letterboxd_search_*\")), desc=\"working on film pages\"):\n",
    "        with open(search_page, \"r+\", encoding='utf8') as film_page:\n",
    "            parsed = bs(film_page, 'html.parser')\n",
    "            film_details = parsed.find_all(\"div\", attrs={\"class\":\"film-detail-content\"})\n",
    "            img_details = parsed.find_all(\"div\", attrs={\"class\": re.compile(\"^react-component film-poster film-poster\")})\n",
    "\n",
    "            # info from netflix_titles data.frame (verificar se formato bate com o formato que ta tirando do HTML)\n",
    "            film_id = int(search_page.split(\"letterboxd_search_\", 1)[1].split(\".html\")[0])\n",
    "            idx = [i for i, x in enumerate(netflix_titles.show_id == film_id) if x][0]\n",
    "            film_title = netflix_titles.title[idx]\n",
    "            film_year = netflix_titles.release_year[idx]\n",
    "            film_director = netflix_titles.director[idx]\n",
    "\n",
    "            best_ratio = 0\n",
    "            for i in range(len(film_details)):\n",
    "                film, img = film_details[i], img_details[i]\n",
    "                try:\n",
    "                    title_wrapper = film.find_all(\"span\", attrs={\"class\":\"film-title-wrapper\"})[0].find_all(\"a\")[0]\n",
    "                    href, title = title_wrapper['href'], title_wrapper.text\n",
    "                except:\n",
    "                    href, title = None, ''\n",
    "                    \n",
    "                try:\n",
    "                    year = title_wrapper = film.find_all(\"span\", attrs={\"class\":\"film-title-wrapper\"})[0].find_all(\"a\")[1].text\n",
    "                    year_ok = abs(int(year) - film_year) == 0\n",
    "                except:\n",
    "                    year = None\n",
    "                    year_ok = False\n",
    "                    \n",
    "                try:\n",
    "                    director = film.find_all(\"p\", attrs={\"class\":\"film-metadata\"})[0].find_all(\"a\")[0].text\n",
    "                except:\n",
    "                    director = None\n",
    "                    \n",
    "                try:\n",
    "                    img_source = img.find_all(\"img\", attrs={\"class\": \"image\"})[0]['srcset'].partition(\" \")[0]\n",
    "                except:\n",
    "                    img_source = None\n",
    "                \n",
    "                # check if match is ok\n",
    "                this_ratio = max(SequenceMatcher(None, film_title, title).ratio(), SequenceMatcher(None, film_title, title[0:-5]).ratio())\n",
    "                if not year_ok and this_ratio < 0.6:\n",
    "                    continue\n",
    "                \n",
    "                if this_ratio > 0.95:\n",
    "                    result = {'show_id':film_id, 'title':title, 'href':href, 'year':year, 'director':director, \n",
    "                              'similarity':this_ratio, 'img':img_source}\n",
    "                    break\n",
    "                elif this_ratio > best_ratio:\n",
    "                    result = {'show_id':film_id, 'title':title, 'href':href, 'year':year, 'director':director, \n",
    "                              'similarity':this_ratio, 'img':img_source}\n",
    "                    best_ratio = this_ratio\n",
    "        if len(result) > 0:\n",
    "            output.write(\"{}\\n\".format(json.dumps(result)))\n",
    "            result = {}\n"
   ]
  },
  {
   "cell_type": "markdown",
   "metadata": {},
   "source": [
    "# Verify results"
   ]
  },
  {
   "cell_type": "code",
   "execution_count": 42,
   "metadata": {},
   "outputs": [
    {
     "data": {
      "text/plain": [
       "(4265, 13)"
      ]
     },
     "execution_count": 42,
     "metadata": {},
     "output_type": "execute_result"
    }
   ],
   "source": [
    "netflix_titles.shape"
   ]
  },
  {
   "cell_type": "code",
   "execution_count": 51,
   "metadata": {
    "scrolled": true
   },
   "outputs": [
    {
     "name": "stdout",
     "output_type": "stream",
     "text": [
      "Total number of movies: 4086\n"
     ]
    }
   ],
   "source": [
    "# look at saved json\n",
    "df = pd.read_json(wd+\"letterboxd_movies_page_wimg.json\", lines=True)\n",
    "print('Total number of movies:', df.shape[0])"
   ]
  },
  {
   "cell_type": "code",
   "execution_count": 52,
   "metadata": {},
   "outputs": [
    {
     "name": "stdout",
     "output_type": "stream",
     "text": [
      "   show_id                              title  \\\n",
      "0  1005494                  The Stranger 1946   \n",
      "1  1008581                       Stripes 1981   \n",
      "2  1029730  Teenage Mutant Ninja Turtles 1990   \n",
      "3  1064058        Tremors 2: Aftershocks 1996   \n",
      "4  1065372            The Trigger Effect 1996   \n",
      "\n",
      "                                  href    year      director  similarity  \\\n",
      "0                  /film/the-stranger/  1946.0  Orson Welles    1.000000   \n",
      "1                       /film/stripes/  1981.0  Ivan Reitman    1.000000   \n",
      "2  /film/teenage-mutant-ninja-turtles/  1990.0  Steve Barron    0.835821   \n",
      "3         /film/tremors-2-aftershocks/  1996.0  S. S. Wilson    1.000000   \n",
      "4            /film/the-trigger-effect/  1996.0   David Koepp    1.000000   \n",
      "\n",
      "                                                 img  \n",
      "0  https://a.ltrbxd.com/resized/film-poster/3/9/1...  \n",
      "1  https://a.ltrbxd.com/resized/sm/upload/34/li/e...  \n",
      "2  https://a.ltrbxd.com/resized/film-poster/5/1/0...  \n",
      "3  https://a.ltrbxd.com/resized/film-poster/4/5/6...  \n",
      "4  https://a.ltrbxd.com/resized/film-poster/7/5/4...  \n"
     ]
    }
   ],
   "source": [
    "print(df.head())"
   ]
  },
  {
   "cell_type": "code",
   "execution_count": 53,
   "metadata": {},
   "outputs": [
    {
     "name": "stdout",
     "output_type": "stream",
     "text": [
      "      show_id                     title                        href    year  \\\n",
      "4081   915927                Rocky 1976                /film/rocky/  1976.0   \n",
      "4082   916043             Rocky II 1979             /film/rocky-ii/  1979.0   \n",
      "4083   916061             Rocky IV 1985             /film/rocky-iv/  1985.0   \n",
      "4084   923574  Rumble in the Bronx 1995  /film/rumble-in-the-bronx/  1995.0   \n",
      "4085   973861          Sling Blade 1996          /film/sling-blade/  1996.0   \n",
      "\n",
      "                director  similarity  \\\n",
      "4081    John G. Avildsen         1.0   \n",
      "4082  Sylvester Stallone         1.0   \n",
      "4083  Sylvester Stallone         1.0   \n",
      "4084        Stanley Tong         1.0   \n",
      "4085  Billy Bob Thornton         1.0   \n",
      "\n",
      "                                                    img  \n",
      "4081  https://a.ltrbxd.com/resized/sm/upload/4z/ql/9...  \n",
      "4082  https://a.ltrbxd.com/resized/film-poster/5/1/0...  \n",
      "4083  https://a.ltrbxd.com/resized/sm/upload/vn/7i/5...  \n",
      "4084  https://a.ltrbxd.com/resized/sm/upload/so/of/i...  \n",
      "4085  https://a.ltrbxd.com/resized/sm/upload/pb/wx/s...  \n"
     ]
    }
   ],
   "source": [
    "print(df.tail())"
   ]
  },
  {
   "cell_type": "code",
   "execution_count": 54,
   "metadata": {},
   "outputs": [
    {
     "name": "stdout",
     "output_type": "stream",
     "text": [
      "Total bad matchs: 0 out of 4086.\n"
     ]
    }
   ],
   "source": [
    "df2 = df.merge(netflix_titles, how='left', on='show_id')\n",
    "bad_match = df2.show_id[(df2.year - df2.release_year != 0) & (df2.similarity < 0.6)]\n",
    "print(\"Total bad matchs: %.0f out of %.0f.\" % (len(bad_match), df2.shape[0]))"
   ]
  }
 ],
 "metadata": {
  "kernelspec": {
   "display_name": "Python 3",
   "language": "python",
   "name": "python3"
  },
  "language_info": {
   "codemirror_mode": {
    "name": "ipython",
    "version": 3
   },
   "file_extension": ".py",
   "mimetype": "text/x-python",
   "name": "python",
   "nbconvert_exporter": "python",
   "pygments_lexer": "ipython3",
   "version": "3.8.5"
  }
 },
 "nbformat": 4,
 "nbformat_minor": 4
}
